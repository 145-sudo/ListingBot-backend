{
 "cells": [
  {
   "cell_type": "code",
   "execution_count": 1,
   "id": "0a30419e",
   "metadata": {},
   "outputs": [
    {
     "name": "stdout",
     "output_type": "stream",
     "text": [
      "WP KEY LOADED: True\n",
      "WP SECRET LOADED: True\n"
     ]
    }
   ],
   "source": [
    "import logging\n",
    "from time import sleep\n",
    "\n",
    "import schedule\n",
    "\n",
    "from config import ENVIRONMENT, SHEET_ID, SheetName\n",
    "from util.func import (\n",
    "    fetch_supplier_products,\n",
    "    fetch_woocommerce_products,\n",
    "    monitor_sheet_changes,\n",
    ")\n",
    "from util.gsheet import get_spreadsheet\n"
   ]
  },
  {
   "cell_type": "code",
   "execution_count": 4,
   "id": "0a265c11",
   "metadata": {},
   "outputs": [],
   "source": [
    "logging.basicConfig(\n",
    "    filename=\"inventory_sync.log\",\n",
    "    level=logging.INFO,\n",
    "    format=\"%(asctime)s - %(levelname)s - %(message)s\",\n",
    ")\n",
    "\n",
    "# Add logging to console\n",
    "console = logging.StreamHandler()\n",
    "console.setLevel(logging.INFO)\n",
    "formatter = logging.Formatter(\"%(asctime)s - %(levelname)s - %(message)s\")\n",
    "console.setFormatter(formatter)\n",
    "logging.getLogger().addHandler(console)"
   ]
  },
  {
   "cell_type": "code",
   "execution_count": 5,
   "id": "fe6e2939",
   "metadata": {},
   "outputs": [
    {
     "data": {
      "text/plain": [
       "<Spreadsheet 'OurStoreProducts' id:1bSC1a80TZY3wRPIf07ixn8zE8g79wPn9dLt95RUho7c>"
      ]
     },
     "execution_count": 5,
     "metadata": {},
     "output_type": "execute_result"
    }
   ],
   "source": [
    "spreadsheet = get_spreadsheet(SHEET_ID)\n",
    "\n",
    "spreadsheet"
   ]
  },
  {
   "cell_type": "code",
   "execution_count": 6,
   "id": "5aaf1f05",
   "metadata": {},
   "outputs": [
    {
     "name": "stderr",
     "output_type": "stream",
     "text": [
      "ERROR:root:Error fetching products on Page:1, Per_Page:100\n",
      "2025-07-31 20:49:03,358 - ERROR - Error fetching products on Page:1, Per_Page:100\n",
      "ERROR:root:HTTPSConnectionPool(host='stltacticals.com', port=443): Read timed out. (read timeout=5)\n",
      "2025-07-31 20:49:03,364 - ERROR - HTTPSConnectionPool(host='stltacticals.com', port=443): Read timed out. (read timeout=5)\n",
      "WARNING:root:No products fetched for Page:1\n",
      "2025-07-31 20:49:03,364 - WARNING - No products fetched for Page:1\n"
     ]
    }
   ],
   "source": [
    "fetch_woocommerce_products(spreadsheet)"
   ]
  },
  {
   "cell_type": "code",
   "execution_count": 1,
   "id": "803b1783",
   "metadata": {},
   "outputs": [],
   "source": [
    "line = [25185, 'UA Freedom Rival Big Flag Logo Shorts', '1360442-ua-freedom-rival-big-flag-logo-shorts-492', 'https://stltacticals.com/products/1360442-ua-freedom-rival-big-flag-logo-shorts-492', '2024-10-15T05:59:16', '2024-10-15T09:59:16', '2024-10-15T06:00:35', '2024-10-15T10:00:35', 'variable', 'publish', False, 'visible', '<div class=\"value\">This is your new favorite warm-up for pretty much everything you do - it\\'s light, comfy, and super-soft on the inside.</div>\\n<ul>\\n<li>Soft, mid-weight performance cotton construction with brushed interior for extra warmth</li>\\n<li>Ribbed waistband with external drawcord</li>\\n<li>Open hand pockets</li>\\n</ul>\\n', '', '7962989986099', '35.00', '', '', None, None, None, None, False, True, 0, False, False, -1, -1, '', '', 'taxable', '', False, None, 'no', False, False, None, False, '', True, True, '', 0, True, '0.00', 0, 0, '', [], 0, '<span class=\"woocommerce-Price-amount amount\"><bdi><span class=\"woocommerce-Price-currencySymbol\">&#36;</span>35.00</bdi></span>', 'outofstock', True, '', '']"
   ]
  },
  {
   "cell_type": "code",
   "execution_count": 2,
   "id": "bbfcb6ff",
   "metadata": {},
   "outputs": [
    {
     "data": {
      "text/plain": [
       "[]"
      ]
     },
     "execution_count": 2,
     "metadata": {},
     "output_type": "execute_result"
    }
   ],
   "source": [
    "line[50]"
   ]
  },
  {
   "cell_type": "code",
   "execution_count": 3,
   "id": "ae34493b",
   "metadata": {},
   "outputs": [],
   "source": [
    "col = ['id', 'name', 'slug', 'permalink', 'date_created', 'date_created_gmt', 'date_modified', 'date_modified_gmt', 'type', 'status', 'featured', 'catalog_visibility', 'description', 'short_description', 'sku', 'price', 'regular_price', 'sale_price', 'date_on_sale_from', 'date_on_sale_from_gmt', 'date_on_sale_to', 'date_on_sale_to_gmt', 'on_sale', 'purchasable', 'total_sales', 'virtual', 'downloadable', 'download_limit', 'download_expiry', 'external_url', 'button_text', 'tax_status', 'tax_class', 'manage_stock', 'stock_quantity', 'backorders', 'backorders_allowed', 'backordered', 'low_stock_amount', 'sold_individually', 'weight', 'shipping_required', 'shipping_taxable', 'shipping_class', 'shipping_class_id', 'reviews_allowed', 'average_rating', 'rating_count', 'parent_id', 'purchase_note', 'brands', 'menu_order', 'price_html', 'stock_status', 'has_options', 'post_password', 'global_unique_id']"
   ]
  },
  {
   "cell_type": "code",
   "execution_count": 4,
   "id": "eff88eee",
   "metadata": {},
   "outputs": [
    {
     "data": {
      "text/plain": [
       "'brands'"
      ]
     },
     "execution_count": 4,
     "metadata": {},
     "output_type": "execute_result"
    }
   ],
   "source": [
    "col[50]"
   ]
  },
  {
   "cell_type": "code",
   "execution_count": null,
   "id": "27fbfc92",
   "metadata": {},
   "outputs": [],
   "source": []
  }
 ],
 "metadata": {
  "kernelspec": {
   "display_name": ".venv",
   "language": "python",
   "name": "python3"
  },
  "language_info": {
   "codemirror_mode": {
    "name": "ipython",
    "version": 3
   },
   "file_extension": ".py",
   "mimetype": "text/x-python",
   "name": "python",
   "nbconvert_exporter": "python",
   "pygments_lexer": "ipython3",
   "version": "3.12.1"
  }
 },
 "nbformat": 4,
 "nbformat_minor": 5
}
