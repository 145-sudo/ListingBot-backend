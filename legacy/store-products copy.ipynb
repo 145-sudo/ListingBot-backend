{
 "cells": [
  {
   "cell_type": "code",
   "execution_count": 106,
   "metadata": {},
   "outputs": [],
   "source": [
    "# from woocommerce import API\n",
    "import pandas as pd\n",
    "import numpy as np\n",
    "import os"
   ]
  },
  {
   "cell_type": "code",
   "execution_count": 107,
   "metadata": {},
   "outputs": [],
   "source": [
    "# from util.gsheet import update_sheet_by_id\n",
    "\n",
    "sheet_id = \"1ZE7BeE26iM43x_ympaIgOdl6lXWrwXg-PZZAKuIBEIw\"\n",
    "sheet_name = \"OurStoreProducts\"\n",
    "\n",
    "# update_sheet_by_id(df, sheet_id, sheet_name)"
   ]
  },
  {
   "cell_type": "code",
   "execution_count": 108,
   "metadata": {},
   "outputs": [],
   "source": [
    "# from util.gsheet import add_dropdown\n",
    "\n",
    "# add_dropdown(\"OurStoreProducts\", \"list/delist\", \"List\")"
   ]
  },
  {
   "cell_type": "code",
   "execution_count": 109,
   "metadata": {},
   "outputs": [],
   "source": [
    "# import sys\n",
    "# import os\n",
    "\n",
    "# # In Jupyter, __file__ is not defined. Use the current working directory instead.\n",
    "# sys.path.append(os.path.abspath(os.path.join(os.getcwd(), '..')))"
   ]
  },
  {
   "cell_type": "code",
   "execution_count": 110,
   "metadata": {},
   "outputs": [],
   "source": [
    "from util.gsheet import get_sheet_data\n",
    "\n",
    "data = get_sheet_data(sheet_id, df=True, sheet_name=sheet_name)"
   ]
  },
  {
   "cell_type": "code",
   "execution_count": 111,
   "metadata": {},
   "outputs": [],
   "source": [
    "data2 = get_sheet_data(sheet_id, df=True, sheet_name=\"SSI\")\n"
   ]
  },
  {
   "cell_type": "code",
   "execution_count": 112,
   "metadata": {},
   "outputs": [],
   "source": [
    "sdata = data2.copy()\n",
    "sdata = sdata"
   ]
  },
  {
   "cell_type": "code",
   "execution_count": 113,
   "metadata": {},
   "outputs": [
    {
     "data": {
      "text/plain": [
       "0      1108232\n",
       "1      1121607\n",
       "2      1121608\n",
       "3      1121599\n",
       "4      1121604\n",
       "        ...   \n",
       "994           \n",
       "995           \n",
       "996           \n",
       "997           \n",
       "998           \n",
       "Name: SKU, Length: 999, dtype: object"
      ]
     },
     "execution_count": 113,
     "metadata": {},
     "output_type": "execute_result"
    }
   ],
   "source": [
    "sdata[\"SKU\"]"
   ]
  },
  {
   "cell_type": "code",
   "execution_count": 114,
   "metadata": {},
   "outputs": [
    {
     "name": "stdout",
     "output_type": "stream",
     "text": [
      "Index(['0', 'name', 'slug', 'permalink', 'date_created', 'date_created_gmt',\n",
      "       'date_modified', 'date_modified_gmt', 'type', 'status', 'featured',\n",
      "       'catalog_visibility', 'description', 'short_description', 'sku',\n",
      "       'price', 'regular_price', 'sale_price', 'date_on_sale_from',\n",
      "       'date_on_sale_from_gmt', 'date_on_sale_to', 'date_on_sale_to_gmt',\n",
      "       'on_sale', 'purchasable', 'total_sales', 'virtual', 'downloadable',\n",
      "       'download_limit', 'download_expiry', 'external_url', 'button_text',\n",
      "       'tax_status', 'tax_class', 'manage_stock', 'stock_quantity',\n",
      "       'backorders', 'backorders_allowed', 'backordered', 'low_stock_amount',\n",
      "       'sold_individually', 'weight', 'shipping_required', 'shipping_taxable',\n",
      "       'shipping_class', 'shipping_class_id', 'reviews_allowed',\n",
      "       'average_rating', 'rating_count', 'parent_id', 'purchase_note',\n",
      "       'menu_order', 'price_html', 'stock_status', 'has_options',\n",
      "       'post_password', 'list/delist'],\n",
      "      dtype='object')\n",
      "Index(['SKU', 'Name', 'Description', 'Price', 'Stock', 'Link', 'category',\n",
      "       'StoreStatus'],\n",
      "      dtype='object')\n",
      "['List']\n"
     ]
    }
   ],
   "source": [
    "print(data.columns)\n",
    "print(sdata.columns)\n",
    "print(data['list/delist'].unique())"
   ]
  },
  {
   "cell_type": "code",
   "execution_count": 115,
   "metadata": {},
   "outputs": [],
   "source": [
    "# print(data[data['list/delist'] == 'List'].head())"
   ]
  },
  {
   "cell_type": "code",
   "execution_count": 116,
   "metadata": {},
   "outputs": [],
   "source": [
    "# print(data[data['list/delist'] == 'Delist'])"
   ]
  },
  {
   "cell_type": "code",
   "execution_count": 118,
   "metadata": {},
   "outputs": [],
   "source": [
    "def normalize_name(name):\n",
    "    return str(name).strip().lower()\n",
    "\n",
    "\n",
    "data['norm_name'] = data['name'].apply(normalize_name)\n",
    "sdata['norm_name'] = sdata['Name'].apply(normalize_name)\n",
    "\n",
    "# Merge on normalized name\n",
    "comparison = pd.merge(\n",
    "    sdata, data,\n",
    "    on='norm_name',\n",
    "    how='left',\n",
    "    suffixes=('_ssi', '_store')\n",
    ")\n"
   ]
  },
  {
   "cell_type": "code",
   "execution_count": 119,
   "metadata": {},
   "outputs": [
    {
     "name": "stdout",
     "output_type": "stream",
     "text": [
      "Matched products: 3\n",
      "Unmatched SSI products: 996\n"
     ]
    }
   ],
   "source": [
    "# Find matches and non-matches\n",
    "matched = comparison[~comparison['sku'].isna()]\n",
    "unmatched = comparison[comparison['sku'].isna()]\n",
    "\n",
    "print(\"Matched products:\", len(matched))\n",
    "print(\"Unmatched SSI products:\", len(unmatched))\n"
   ]
  },
  {
   "cell_type": "code",
   "execution_count": 120,
   "metadata": {},
   "outputs": [
    {
     "data": {
      "text/html": [
       "<div>\n",
       "<style scoped>\n",
       "    .dataframe tbody tr th:only-of-type {\n",
       "        vertical-align: middle;\n",
       "    }\n",
       "\n",
       "    .dataframe tbody tr th {\n",
       "        vertical-align: top;\n",
       "    }\n",
       "\n",
       "    .dataframe thead th {\n",
       "        text-align: right;\n",
       "    }\n",
       "</style>\n",
       "<table border=\"1\" class=\"dataframe\">\n",
       "  <thead>\n",
       "    <tr style=\"text-align: right;\">\n",
       "      <th></th>\n",
       "      <th>SKU</th>\n",
       "      <th>Name</th>\n",
       "      <th>Description</th>\n",
       "      <th>Price</th>\n",
       "      <th>Stock</th>\n",
       "      <th>Link</th>\n",
       "      <th>category</th>\n",
       "      <th>StoreStatus</th>\n",
       "      <th>norm_name</th>\n",
       "      <th>0</th>\n",
       "      <th>...</th>\n",
       "      <th>average_rating</th>\n",
       "      <th>rating_count</th>\n",
       "      <th>parent_id</th>\n",
       "      <th>purchase_note</th>\n",
       "      <th>menu_order</th>\n",
       "      <th>price_html</th>\n",
       "      <th>stock_status</th>\n",
       "      <th>has_options</th>\n",
       "      <th>post_password</th>\n",
       "      <th>list/delist</th>\n",
       "    </tr>\n",
       "  </thead>\n",
       "  <tbody>\n",
       "    <tr>\n",
       "      <th>54</th>\n",
       "      <td>9004879</td>\n",
       "      <td>Mechanix Azimuth Tactical Combat Glove Black M...</td>\n",
       "      <td>Low-profile closure provies a secure fit to th...</td>\n",
       "      <td>$89.95</td>\n",
       "      <td>17</td>\n",
       "      <td>https://ssisports.net/Products/341112</td>\n",
       "      <td>Apparel</td>\n",
       "      <td>-</td>\n",
       "      <td>mechanix azimuth tactical combat glove black m...</td>\n",
       "      <td>19139</td>\n",
       "      <td>...</td>\n",
       "      <td>0.00</td>\n",
       "      <td>0</td>\n",
       "      <td>0</td>\n",
       "      <td></td>\n",
       "      <td>0</td>\n",
       "      <td>&lt;del aria-hidden=\"true\"&gt;&lt;span class=\"woocommer...</td>\n",
       "      <td>instock</td>\n",
       "      <td>FALSE</td>\n",
       "      <td></td>\n",
       "      <td>List</td>\n",
       "    </tr>\n",
       "    <tr>\n",
       "      <th>55</th>\n",
       "      <td>9004874</td>\n",
       "      <td>Mechanix Azimuth Tactical Combat Glove Black L...</td>\n",
       "      <td>Low-profile closure provies a secure fit to th...</td>\n",
       "      <td>$89.95</td>\n",
       "      <td>8</td>\n",
       "      <td>https://ssisports.net/Products/341107</td>\n",
       "      <td>Apparel</td>\n",
       "      <td>-</td>\n",
       "      <td>mechanix azimuth tactical combat glove black l...</td>\n",
       "      <td>19138</td>\n",
       "      <td>...</td>\n",
       "      <td>0.00</td>\n",
       "      <td>0</td>\n",
       "      <td>0</td>\n",
       "      <td></td>\n",
       "      <td>0</td>\n",
       "      <td>&lt;span class=\"woocommerce-Price-amount amount\"&gt;...</td>\n",
       "      <td>instock</td>\n",
       "      <td>FALSE</td>\n",
       "      <td></td>\n",
       "      <td>List</td>\n",
       "    </tr>\n",
       "    <tr>\n",
       "      <th>56</th>\n",
       "      <td>4011677</td>\n",
       "      <td>Seirus HWS Workman Xtreme Mens Glove Gauntlet ...</td>\n",
       "      <td>Puncture, cut, heat and tear resistant\\nFive t...</td>\n",
       "      <td>$74.99</td>\n",
       "      <td>7</td>\n",
       "      <td>https://ssisports.net/Products/314419</td>\n",
       "      <td>Apparel</td>\n",
       "      <td>-</td>\n",
       "      <td>seirus hws workman xtreme mens glove gauntlet ...</td>\n",
       "      <td>23226</td>\n",
       "      <td>...</td>\n",
       "      <td>0.00</td>\n",
       "      <td>0</td>\n",
       "      <td>0</td>\n",
       "      <td></td>\n",
       "      <td>0</td>\n",
       "      <td>&lt;span class=\"woocommerce-Price-amount amount\"&gt;...</td>\n",
       "      <td>instock</td>\n",
       "      <td>FALSE</td>\n",
       "      <td></td>\n",
       "      <td>List</td>\n",
       "    </tr>\n",
       "  </tbody>\n",
       "</table>\n",
       "<p>3 rows × 65 columns</p>\n",
       "</div>"
      ],
      "text/plain": [
       "        SKU                                               Name  \\\n",
       "54  9004879  Mechanix Azimuth Tactical Combat Glove Black M...   \n",
       "55  9004874  Mechanix Azimuth Tactical Combat Glove Black L...   \n",
       "56  4011677  Seirus HWS Workman Xtreme Mens Glove Gauntlet ...   \n",
       "\n",
       "                                          Description   Price Stock  \\\n",
       "54  Low-profile closure provies a secure fit to th...  $89.95    17   \n",
       "55  Low-profile closure provies a secure fit to th...  $89.95     8   \n",
       "56  Puncture, cut, heat and tear resistant\\nFive t...  $74.99     7   \n",
       "\n",
       "                                     Link category StoreStatus  \\\n",
       "54  https://ssisports.net/Products/341112  Apparel           -   \n",
       "55  https://ssisports.net/Products/341107  Apparel           -   \n",
       "56  https://ssisports.net/Products/314419  Apparel           -   \n",
       "\n",
       "                                            norm_name      0  ...  \\\n",
       "54  mechanix azimuth tactical combat glove black m...  19139  ...   \n",
       "55  mechanix azimuth tactical combat glove black l...  19138  ...   \n",
       "56  seirus hws workman xtreme mens glove gauntlet ...  23226  ...   \n",
       "\n",
       "   average_rating rating_count parent_id purchase_note menu_order  \\\n",
       "54           0.00            0         0                        0   \n",
       "55           0.00            0         0                        0   \n",
       "56           0.00            0         0                        0   \n",
       "\n",
       "                                           price_html stock_status  \\\n",
       "54  <del aria-hidden=\"true\"><span class=\"woocommer...      instock   \n",
       "55  <span class=\"woocommerce-Price-amount amount\">...      instock   \n",
       "56  <span class=\"woocommerce-Price-amount amount\">...      instock   \n",
       "\n",
       "   has_options post_password list/delist  \n",
       "54       FALSE                      List  \n",
       "55       FALSE                      List  \n",
       "56       FALSE                      List  \n",
       "\n",
       "[3 rows x 65 columns]"
      ]
     },
     "execution_count": 120,
     "metadata": {},
     "output_type": "execute_result"
    }
   ],
   "source": [
    "matched"
   ]
  },
  {
   "cell_type": "code",
   "execution_count": null,
   "metadata": {},
   "outputs": [],
   "source": [
    "from config import SheetColumns\n",
    "from util.sheet import get_attribute\n",
    "\n",
    "\n",
    "def update_sheet_cell(spreadsheet, sheet_name, sku_list, stock_list):\n",
    "    worksheet = spreadsheet.worksheet(sheet_name)\n",
    "    \n",
    "    # Get header row to find column index of 'SKU' and 'Stock'\n",
    "    header = worksheet.row_values(1)\n",
    "    \n",
    "    # Get column names from config enum\n",
    "    sku_col_name = get_attribute(sheet_name, SheetColumns.SKU)\n",
    "    stock_col_name = get_attribute(sheet_name, SheetColumns.STOCK)\n",
    "    \n",
    "    try:\n",
    "        sku_col_index = header.index(sku_col_name) + 1     # 1-indexed\n",
    "        stock_col_index = header.index(stock_col_name) + 1 # 1-indexed\n",
    "    except ValueError as e:\n",
    "        print(f\"Column not found: {e}\")\n",
    "        return\n",
    "\n",
    "    for i, sku in enumerate(sku_list):\n",
    "        try:\n",
    "            # Find the SKU cell in the SKU column only\n",
    "            cell = worksheet.find(str(sku), in_column=sku_col_index)\n",
    "            \n",
    "            # Get the current value of the cell\n",
    "            current_value = worksheet.cell(cell.row, stock_col_index).value\n",
    "\n",
    "            # Append the new value to the current value\n",
    "            new_value = int(current_value)  + int(stock_list[i])\n",
    "            # Update the cell with the new value\n",
    "            worksheet.update_cell(cell.row, stock_col_index, new_value)\n",
    "            print(f\"Updated stock for SKU {sku} at row {cell.row}\")\n",
    "            \n",
    "            \n",
    "            # Update corresponding row in Stock column\n",
    "            # worksheet.update_cell(cell.row, stock_col_index, stock_list[i])\n",
    "            # print(f\"Updated stock for SKU {sku} at row {cell.row}\")\n",
    "        \n",
    "        except Exception as e:\n",
    "            print(f\"SKU {sku} not found. Error: {e}\")\n"
   ]
  },
  {
   "cell_type": "code",
   "execution_count": 131,
   "metadata": {},
   "outputs": [
    {
     "data": {
      "text/plain": [
       "Index(['SKU', 'Name', 'Description', 'Price', 'Stock', 'Link', 'category',\n",
       "       'StoreStatus', 'norm_name', '0', 'name', 'slug', 'permalink',\n",
       "       'date_created', 'date_created_gmt', 'date_modified',\n",
       "       'date_modified_gmt', 'type', 'status', 'featured', 'catalog_visibility',\n",
       "       'description', 'short_description', 'sku', 'price', 'regular_price',\n",
       "       'sale_price', 'date_on_sale_from', 'date_on_sale_from_gmt',\n",
       "       'date_on_sale_to', 'date_on_sale_to_gmt', 'on_sale', 'purchasable',\n",
       "       'total_sales', 'virtual', 'downloadable', 'download_limit',\n",
       "       'download_expiry', 'external_url', 'button_text', 'tax_status',\n",
       "       'tax_class', 'manage_stock', 'stock_quantity', 'backorders',\n",
       "       'backorders_allowed', 'backordered', 'low_stock_amount',\n",
       "       'sold_individually', 'weight', 'shipping_required', 'shipping_taxable',\n",
       "       'shipping_class', 'shipping_class_id', 'reviews_allowed',\n",
       "       'average_rating', 'rating_count', 'parent_id', 'purchase_note',\n",
       "       'menu_order', 'price_html', 'stock_status', 'has_options',\n",
       "       'post_password', 'list/delist'],\n",
       "      dtype='object')"
      ]
     },
     "execution_count": 131,
     "metadata": {},
     "output_type": "execute_result"
    }
   ],
   "source": [
    "matched.columns"
   ]
  },
  {
   "cell_type": "code",
   "execution_count": 132,
   "metadata": {},
   "outputs": [],
   "source": [
    "import logging\n",
    "\n",
    "import gspread\n",
    "import pandas as pd\n",
    "from google.oauth2.service_account import Credentials\n",
    "\n",
    "\n",
    "# Define the scope\n",
    "scope = [\n",
    "    \"https://spreadsheets.google.com/feeds\",\n",
    "    \"https://www.googleapis.com/auth/drive\",\n",
    "]\n",
    "\n",
    "# Load credentials from service account file\n",
    "creds = Credentials.from_service_account_file(\n",
    "    \"./opportune-study-409222-b5a62c0d49fd.json\", scopes=scope\n",
    ")\n",
    "\n",
    "gc = gspread.authorize(creds)\n",
    "\n",
    "# Create a new spreadsheet (optional, if you don't have one already)\n",
    "# spreadsheet = gc.create('Product Data from Colab')\n",
    "# print(f\"Spreadsheet created: {spreadsheet.url}\")\n",
    "\n",
    "\n",
    "# Get spreadsheet by id\n",
    "def get_spreadsheet(spreadsheet_id):\n",
    "    try:\n",
    "        return gc.open_by_key(spreadsheet_id)\n",
    "    except Exception as e:\n",
    "        logging.error(f\"Error getting spreadsheet: {e}\")\n",
    "        raise"
   ]
  },
  {
   "cell_type": "code",
   "execution_count": 134,
   "metadata": {},
   "outputs": [
    {
     "name": "stdout",
     "output_type": "stream",
     "text": [
      "Updated stock for SKU 9004879 at row 11\n",
      "SKU 9004874 not found. Error: 'NoneType' object has no attribute 'row'\n",
      "SKU 4011677 not found. Error: 'NoneType' object has no attribute 'row'\n"
     ]
    }
   ],
   "source": [
    "# from utils import update_sheet\n",
    "\n",
    "from http import client\n",
    "\n",
    "\n",
    "test_sheet_id = \"1bSC1a80TZY3wRPIf07ixn8zE8g79wPn9dLt95RUho7c\"\n",
    "test_sheet_name = \"SSI\"\n",
    "\n",
    "spreadsheet = get_spreadsheet(test_sheet_id)\n",
    "stock_list = matched['Stock'].tolist()\n",
    "match_sku_list = matched['SKU'].tolist()\n",
    "update_sheet_cell(spreadsheet=spreadsheet, sheet_name=test_sheet_name, sku_list=match_sku_list, stock_list=stock_list)"
   ]
  },
  {
   "cell_type": "code",
   "execution_count": 101,
   "metadata": {},
   "outputs": [],
   "source": [
    "# stock_list = matched['stock'].tolist()\n",
    "# match_sku_list = matched['sku'].tolist()\n",
    "# update_sheet(spreadsheet, sheet_name, match_sku_list, stock_list)"
   ]
  },
  {
   "cell_type": "code",
   "execution_count": 84,
   "metadata": {},
   "outputs": [],
   "source": [
    "test_sheet_id = \"1bSC1a80TZY3wRPIf07ixn8zE8g79wPn9dLt95RUho7c\"\n",
    "test_sheet_name = \"SSI\""
   ]
  },
  {
   "cell_type": "code",
   "execution_count": null,
   "metadata": {},
   "outputs": [],
   "source": [
    "import gspread\n",
    "# from oauth2client.service_account import ServiceAccountCredentials\n"
   ]
  },
  {
   "cell_type": "code",
   "execution_count": null,
   "metadata": {},
   "outputs": [],
   "source": [
    "# import util.gsheet as gsheet\n",
    "\n",
    "# matched_skus = [sku for sku in data['SKU'] if sku in sheet['SKU']]\n",
    "# gsheet.update_sheet(spreadsheet, sheet_name, matched_skus)"
   ]
  },
  {
   "cell_type": "code",
   "execution_count": null,
   "metadata": {},
   "outputs": [],
   "source": [
    "# import pandas as pd\n",
    "# sdata['SKU_in_sheet'] = sdata['SKU'].isin(data['sku'])\n",
    "# sdata['name in sheet'] = sdata['Name'].isin(data['name'])"
   ]
  },
  {
   "cell_type": "code",
   "execution_count": 57,
   "metadata": {},
   "outputs": [],
   "source": [
    "# print(sdata[\"SKU_in_sheet\"])\n",
    "# print(sdata[\"name in sheet\"])"
   ]
  },
  {
   "cell_type": "code",
   "execution_count": 23,
   "metadata": {},
   "outputs": [],
   "source": [
    "# check if sdata in data or not using SKU \n",
    "# call it for enum SKU\n",
    "# make a function for it\n",
    "\n",
    "# for i in sdata:\n",
    "#     if i in data['SKU']:\n",
    "#         print(f\"{i} exists in data\")\n",
    "#     else:\n",
    "#         print(\"\")"
   ]
  },
  {
   "cell_type": "code",
   "execution_count": null,
   "metadata": {},
   "outputs": [],
   "source": []
  }
 ],
 "metadata": {
  "kernelspec": {
   "display_name": "Python 3",
   "language": "python",
   "name": "python3"
  },
  "language_info": {
   "codemirror_mode": {
    "name": "ipython",
    "version": 3
   },
   "file_extension": ".py",
   "mimetype": "text/x-python",
   "name": "python",
   "nbconvert_exporter": "python",
   "pygments_lexer": "ipython3",
   "version": "3.12.6"
  }
 },
 "nbformat": 4,
 "nbformat_minor": 2
}
